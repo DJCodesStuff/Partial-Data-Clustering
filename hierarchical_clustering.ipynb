{
 "cells": [
  {
   "cell_type": "code",
   "execution_count": 9,
   "metadata": {},
   "outputs": [],
   "source": [
    "import pandas as pd\n",
    "from sklearn.preprocessing import StandardScaler\n",
    "from sklearn.metrics import silhouette_score\n",
    "from sklearn.cluster import AgglomerativeClustering\n",
    "import matplotlib.pyplot as plt\n",
    "import seaborn as sns\n",
    "import numpy as np"
   ]
  },
  {
   "cell_type": "code",
   "execution_count": 10,
   "metadata": {},
   "outputs": [],
   "source": [
    "url = 'https://archive.ics.uci.edu/ml/machine-learning-databases/00240/UCI%20HAR%20Dataset.zip'\n",
    "dataset_path = 'UCI HAR Dataset'\n",
    "\n",
    "# Unzip the dataset\n",
    "import zipfile\n",
    "import urllib.request\n",
    "import os\n",
    "\n",
    "if not os.path.exists(dataset_path):\n",
    "    urllib.request.urlretrieve(url, 'UCI_HAR_Dataset.zip')\n",
    "    with zipfile.ZipFile('UCI_HAR_Dataset.zip', 'r') as zip_ref:\n",
    "        zip_ref.extractall('.')\n"
   ]
  },
  {
   "cell_type": "code",
   "execution_count": 11,
   "metadata": {},
   "outputs": [],
   "source": [
    "# Load the dataset\n",
    "train_data = pd.read_csv(f'{dataset_path}/train/X_train.txt', delim_whitespace=True, header=None)\n",
    "test_data = pd.read_csv(f'{dataset_path}/test/X_test.txt', delim_whitespace=True, header=None)\n",
    "data = pd.concat([train_data, test_data])\n",
    "\n",
    "# Normalize the features\n",
    "scaler = StandardScaler()\n",
    "data_scaled = scaler.fit_transform(data)"
   ]
  },
  {
   "cell_type": "code",
   "execution_count": 12,
   "metadata": {},
   "outputs": [],
   "source": [
    "# Initialize variables to store the best results\n",
    "best_n_clusters = None\n",
    "best_linkage = None\n",
    "best_score = -1\n",
    "best_labels = None\n",
    "\n",
    "# Define the grid search ranges for n_clusters and linkage criteria\n",
    "n_clusters_values = np.arange(2, 30)  # Example range, adjust as needed\n",
    "linkage_values = ['ward', 'complete', 'average', 'single']\n",
    "\n",
    "# Function to apply hierarchical clustering and return the number of clusters\n",
    "def apply_hierarchical(n_clusters, linkage, data):\n",
    "    hierarchical = AgglomerativeClustering(n_clusters=n_clusters, linkage=linkage)\n",
    "    clusters = hierarchical.fit_predict(data)\n",
    "    unique_clusters = len(set(clusters))\n",
    "    if unique_clusters > 1:  # We need at least 2 clusters to calculate silhouette score\n",
    "        score = silhouette_score(data, clusters)\n",
    "    else:\n",
    "        score = -1\n",
    "    return unique_clusters, score, clusters\n",
    "\n",
    "# Perform the grid search\n",
    "for n_clusters in n_clusters_values:\n",
    "    for linkage in linkage_values:\n",
    "        clusters, score, labels = apply_hierarchical(n_clusters, linkage, data_scaled)\n",
    "        if clusters > 1 and score > best_score:  # You can also set a specific cluster count target here\n",
    "            best_n_clusters = n_clusters\n",
    "            best_linkage = linkage\n",
    "            best_score = score\n",
    "            best_labels = labels\n",
    "\n",
    "# Display the best results\n",
    "print(\"Best parameters found:\")\n",
    "print(f\"n_clusters: {best_n_clusters}, linkage: {best_linkage}\")\n",
    "print(f\"Silhouette Score: {best_score}\")\n",
    "\n",
    "# Display the original output of hierarchical clustering with the best parameters\n",
    "print(\"Cluster labels for each point in the dataset:\")\n",
    "print(best_labels)\n",
    "\n",
    "unique, counts = np.unique(best_labels, return_counts=True)\n",
    "cluster_counts = dict(zip(unique, counts))\n",
    "print(\"\\nNumber of points in each cluster:\")\n",
    "print(cluster_counts)\n",
    "\n",
    "# Adding the cluster labels to the dataframe\n",
    "data['cluster'] = best_labels"
   ]
  },
  {
   "cell_type": "code",
   "execution_count": null,
   "metadata": {},
   "outputs": [],
   "source": []
  }
 ],
 "metadata": {
  "kernelspec": {
   "display_name": "Sajud_research",
   "language": "python",
   "name": "python3"
  },
  "language_info": {
   "codemirror_mode": {
    "name": "ipython",
    "version": 3
   },
   "file_extension": ".py",
   "mimetype": "text/x-python",
   "name": "python",
   "nbconvert_exporter": "python",
   "pygments_lexer": "ipython3",
   "version": "3.9.18"
  }
 },
 "nbformat": 4,
 "nbformat_minor": 2
}
